{
  "nbformat": 4,
  "nbformat_minor": 0,
  "metadata": {
    "colab": {
      "provenance": [],
      "authorship_tag": "ABX9TyNoO38BdVaWg79zzWF6vdKu",
      "include_colab_link": true
    },
    "kernelspec": {
      "name": "python3",
      "display_name": "Python 3"
    },
    "language_info": {
      "name": "python"
    }
  },
  "cells": [
    {
      "cell_type": "markdown",
      "metadata": {
        "id": "view-in-github",
        "colab_type": "text"
      },
      "source": [
        "<a href=\"https://colab.research.google.com/github/SalcedoRamsay/hello-world/blob/main/Sebasti%C3%A1n_29oct2024.ipynb\" target=\"_parent\"><img src=\"https://colab.research.google.com/assets/colab-badge.svg\" alt=\"Open In Colab\"/></a>"
      ]
    },
    {
      "cell_type": "code",
      "source": [
        "# prompt: preguntarme mi nombre y saludarme\n",
        "#si un prompt con IA funciona, guardar el prompt incluso más que el código, porque puede funcionar\n",
        "\n",
        "#estructura básica para introducir un valor\n",
        "nombre = input(\"¿Cuál es tu nombre? \")\n",
        "\n",
        "print(f\"¡Hola, {nombre}! Encantado de conocerte.\")\n",
        "\n",
        "\n",
        "# prompt: Pídeme que introduzca dos valores y devuélveme la suma\n",
        "\n",
        "# Pedir al usuario que introduzca dos valores\n",
        "# tipo de variable input para entero y float para que reconozca decimales\n",
        "valor1 = float(input(\"Introduce el primer valor: \"))\n",
        "valor2 = float(input(\"Introduce el segundo valor: \"))\n",
        "\n",
        "# Calcular la suma\n",
        "suma = valor1 + valor2\n",
        "\n",
        "# Mostrar el resultado\n",
        "print(f\"La suma de {valor1} y {valor2} es: {suma}\")\n",
        "\n",
        "#Para calcular como multiplicación\n",
        "valor1 = float(input(\"Introduce el primer valor: \"))\n",
        "valor2 = float(input(\"Introduce el segundo valor: \"))\n",
        "\n",
        "# Calcular la multiplicación\n",
        "mult_result = valor1 * valor2\n",
        "\n",
        "# Mostrar el resultado\n",
        "print(f\"La suma de {valor1} y {valor2} es: {mult_result}\")\n",
        "\n",
        "# prompt: Pídeme cargar manualmente un archivo excel. A continuación calcula y muestra la media de la segunda columna de ese archivo excel\n",
        "\n",
        "from google.colab import files\n",
        "import pandas as pd\n",
        "\n",
        "uploaded = files.upload()\n",
        "\n",
        "for fn in uploaded.keys():\n",
        "  df = pd.read_excel(fn)\n",
        "  # Calculate the mean of the second column (index 1)\n",
        "  try:\n",
        "    mean_second_column = df.iloc[:, 1].mean()\n",
        "    print(f\"La media de la segunda columna del archivo es: {mean_second_column}\")\n",
        "  except:\n",
        "    print(\"Error: El archivo no contiene una segunda columna o no es un archivo excel válido.\")\n",
        "\n",
        "    # prompt: Carga el archivo de google drive https://docs.google.com/spreadsheets/d/1NkOhlH_rfZNqHFnmUtJPfAsa4MkFj0Dk7uu8OFrDrFw/edit?usp=sharing\n",
        "# y calcula y muestra la media de la tercera columna de esa hoja de cálculo\n",
        "\n",
        "from google.colab import auth\n",
        "auth.authenticate_user()\n",
        "\n",
        "import gspread\n",
        "from google.auth import default\n",
        "creds, _ = default()\n",
        "\n",
        "gc = gspread.authorize(creds)\n",
        "\n",
        "spreadsheet_url = 'https://docs.google.com/spreadsheets/d/1NkOhlH_rfZNqHFnmUtJPfAsa4MkFj0Dk7uu8OFrDrFw/edit?usp=sharing'\n",
        "workbook = gc.open_by_url(spreadsheet_url)\n",
        "\n",
        "worksheet = workbook.sheet1  # Assuming you want to use the first sheet\n",
        "\n",
        "# Get all values from the worksheet\n",
        "rows = worksheet.get_all_values()\n",
        "\n",
        "# Extract the third column (index 2) and convert to floats\n",
        "third_column_values = [float(row[2]) for row in rows[1:] if row[2]]  # Skip the header row and handle empty cells\n",
        "\n",
        "# Calculate the mean\n",
        "if third_column_values:\n",
        "  mean_third_column = sum(third_column_values) / len(third_column_values)\n",
        "  print(f\"La media de la tercera columna es: {mean_third_column}\")\n",
        "else:\n",
        "  print(\"La tercera columna no contiene valores numéricos.\")"
      ],
      "metadata": {
        "colab": {
          "base_uri": "https://localhost:8080/",
          "height": 365
        },
        "id": "QyjMSPjDTceA",
        "outputId": "22fcaade-5f5f-472b-c68e-b2687303d4ee"
      },
      "execution_count": null,
      "outputs": [
        {
          "output_type": "error",
          "ename": "KeyboardInterrupt",
          "evalue": "Interrupted by user",
          "traceback": [
            "\u001b[0;31m---------------------------------------------------------------------------\u001b[0m",
            "\u001b[0;31mKeyboardInterrupt\u001b[0m                         Traceback (most recent call last)",
            "\u001b[0;32m<ipython-input-13-7663a5a61407>\u001b[0m in \u001b[0;36m<cell line: 5>\u001b[0;34m()\u001b[0m\n\u001b[1;32m      3\u001b[0m \u001b[0;34m\u001b[0m\u001b[0m\n\u001b[1;32m      4\u001b[0m \u001b[0;31m#estructura básica para introducir un valor\u001b[0m\u001b[0;34m\u001b[0m\u001b[0;34m\u001b[0m\u001b[0m\n\u001b[0;32m----> 5\u001b[0;31m \u001b[0mnombre\u001b[0m \u001b[0;34m=\u001b[0m \u001b[0minput\u001b[0m\u001b[0;34m(\u001b[0m\u001b[0;34m\"¿Cuál es tu nombre? \"\u001b[0m\u001b[0;34m)\u001b[0m\u001b[0;34m\u001b[0m\u001b[0;34m\u001b[0m\u001b[0m\n\u001b[0m\u001b[1;32m      6\u001b[0m \u001b[0;34m\u001b[0m\u001b[0m\n\u001b[1;32m      7\u001b[0m \u001b[0mprint\u001b[0m\u001b[0;34m(\u001b[0m\u001b[0;34mf\"¡Hola, {nombre}! Encantado de conocerte.\"\u001b[0m\u001b[0;34m)\u001b[0m\u001b[0;34m\u001b[0m\u001b[0;34m\u001b[0m\u001b[0m\n",
            "\u001b[0;32m/usr/local/lib/python3.10/dist-packages/ipykernel/kernelbase.py\u001b[0m in \u001b[0;36mraw_input\u001b[0;34m(self, prompt)\u001b[0m\n\u001b[1;32m    849\u001b[0m                 \u001b[0;34m\"raw_input was called, but this frontend does not support input requests.\"\u001b[0m\u001b[0;34m\u001b[0m\u001b[0;34m\u001b[0m\u001b[0m\n\u001b[1;32m    850\u001b[0m             )\n\u001b[0;32m--> 851\u001b[0;31m         return self._input_request(str(prompt),\n\u001b[0m\u001b[1;32m    852\u001b[0m             \u001b[0mself\u001b[0m\u001b[0;34m.\u001b[0m\u001b[0m_parent_ident\u001b[0m\u001b[0;34m,\u001b[0m\u001b[0;34m\u001b[0m\u001b[0;34m\u001b[0m\u001b[0m\n\u001b[1;32m    853\u001b[0m             \u001b[0mself\u001b[0m\u001b[0;34m.\u001b[0m\u001b[0m_parent_header\u001b[0m\u001b[0;34m,\u001b[0m\u001b[0;34m\u001b[0m\u001b[0;34m\u001b[0m\u001b[0m\n",
            "\u001b[0;32m/usr/local/lib/python3.10/dist-packages/ipykernel/kernelbase.py\u001b[0m in \u001b[0;36m_input_request\u001b[0;34m(self, prompt, ident, parent, password)\u001b[0m\n\u001b[1;32m    893\u001b[0m             \u001b[0;32mexcept\u001b[0m \u001b[0mKeyboardInterrupt\u001b[0m\u001b[0;34m:\u001b[0m\u001b[0;34m\u001b[0m\u001b[0;34m\u001b[0m\u001b[0m\n\u001b[1;32m    894\u001b[0m                 \u001b[0;31m# re-raise KeyboardInterrupt, to truncate traceback\u001b[0m\u001b[0;34m\u001b[0m\u001b[0;34m\u001b[0m\u001b[0m\n\u001b[0;32m--> 895\u001b[0;31m                 \u001b[0;32mraise\u001b[0m \u001b[0mKeyboardInterrupt\u001b[0m\u001b[0;34m(\u001b[0m\u001b[0;34m\"Interrupted by user\"\u001b[0m\u001b[0;34m)\u001b[0m \u001b[0;32mfrom\u001b[0m \u001b[0;32mNone\u001b[0m\u001b[0;34m\u001b[0m\u001b[0;34m\u001b[0m\u001b[0m\n\u001b[0m\u001b[1;32m    896\u001b[0m             \u001b[0;32mexcept\u001b[0m \u001b[0mException\u001b[0m \u001b[0;32mas\u001b[0m \u001b[0me\u001b[0m\u001b[0;34m:\u001b[0m\u001b[0;34m\u001b[0m\u001b[0;34m\u001b[0m\u001b[0m\n\u001b[1;32m    897\u001b[0m                 \u001b[0mself\u001b[0m\u001b[0;34m.\u001b[0m\u001b[0mlog\u001b[0m\u001b[0;34m.\u001b[0m\u001b[0mwarning\u001b[0m\u001b[0;34m(\u001b[0m\u001b[0;34m\"Invalid Message:\"\u001b[0m\u001b[0;34m,\u001b[0m \u001b[0mexc_info\u001b[0m\u001b[0;34m=\u001b[0m\u001b[0;32mTrue\u001b[0m\u001b[0;34m)\u001b[0m\u001b[0;34m\u001b[0m\u001b[0;34m\u001b[0m\u001b[0m\n",
            "\u001b[0;31mKeyboardInterrupt\u001b[0m: Interrupted by user"
          ]
        }
      ]
    },
    {
      "cell_type": "code",
      "source": [
        "# prompt: Con el archivo excel cargado anteriormente, calcula mediante xgboost la relación entre la segunda y la cuarta columna, indicándome la importancia de las variables fiabilidad del modelo, y preguntándome después una valor hipotético de la segunda columna\n",
        "\n",
        "from google.colab import auth\n",
        "auth.authenticate_user()\n",
        "# import the gspread library\n",
        "import gspread\n",
        "from google.auth import default\n",
        "creds, _ = default()\n",
        "gc = gspread.authorize(creds)\n",
        "worksheet = gc.open('Your spreadsheet name').sheet1\n",
        "# get_all_values gives a list of rows.\n",
        "rows = worksheet.get_all_values()\n",
        "# Convert to a DataFrame and render.\n",
        "import pandas as pd\n",
        "df = pd.DataFrame.from_records(rows)\n",
        "# Assuming the second column is at index 1 and the fourth at index 3\n",
        "X = df.iloc[:, 1].astype(float).values.reshape(-1, 1)\n",
        "y = df.iloc[:, 3].astype(float).values\n",
        "\n",
        "# Import XGBoost and train the model\n",
        "import xgboost as xgb\n",
        "from sklearn.model_selection import train_test_split\n",
        "from sklearn.metrics import mean_squared_error\n",
        "\n",
        "X_train, X_test, y_train, y_test = train_test_split(X, y, test_size=0.2, random_state=42)\n",
        "\n",
        "model = xgb.XGBRegressor(objective='reg:squarederror')\n",
        "model.fit(X_train, y_train)\n",
        "\n",
        "# Predict on the test set\n",
        "y_pred = model.predict(X_test)\n",
        "\n",
        "# Evaluate the model\n",
        "rmse = mean_squared_error(y_test, y_pred, squared=False)\n",
        "print(f\"RMSE: {rmse}\")\n",
        "\n",
        "# Feature importance\n",
        "importance = model.feature_importances_\n",
        "print(f\"Feature Importance: {importance}\")\n",
        "\n",
        "# Ask for a hypothetical value of the second column\n",
        "hypothetical_value = float(input(\"Introduce un valor hipotético para la segunda columna: \"))\n",
        "predicted_fourth_column_value = model.predict([[hypothetical_value]])\n",
        "print(f\"El valor predicho para la cuarta columna con el valor hipotético de la segunda columna {hypothetical_value} es: {predicted_fourth_column_value[0]}\")\n"
      ],
      "metadata": {
        "colab": {
          "base_uri": "https://localhost:8080/"
        },
        "id": "Bzu_3mbgWftX",
        "outputId": "18c1df23-c8a2-4f65-fb56-c397abde2c4b"
      },
      "execution_count": null,
      "outputs": [
        {
          "output_type": "stream",
          "name": "stdout",
          "text": [
            "La media de la tercera columna es: 1.360555555555555\n"
          ]
        }
      ]
    }
  ]
}